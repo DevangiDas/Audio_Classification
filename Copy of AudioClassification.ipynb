{
 "cells": [
  {
   "cell_type": "markdown",
   "metadata": {
    "id": "DSTzQE9QXtl1"
   },
   "source": [
    "# 1. Import and Install Dependencies"
   ]
  },
  {
   "cell_type": "markdown",
   "metadata": {
    "id": "Wk3xoLgsXtl4"
   },
   "source": [
    "## 1.1 Install Dependencies"
   ]
  },
  {
   "cell_type": "code",
   "execution_count": 1,
   "metadata": {
    "colab": {
     "base_uri": "https://localhost:8080/"
    },
    "executionInfo": {
     "elapsed": 4570,
     "status": "ok",
     "timestamp": 1681761501643,
     "user": {
      "displayName": "300_Abhishek Sharma",
      "userId": "04499110425885565051"
     },
     "user_tz": -330
    },
    "id": "iP3SdQ94Xtl4",
    "outputId": "061a5e1d-3832-4b74-a9eb-174374e37100"
   },
   "outputs": [
    {
     "name": "stdout",
     "output_type": "stream",
     "text": [
      "Requirement already satisfied: tensorflow-io in c:\\users\\ddas\\anaconda3\\lib\\site-packages (0.31.0)\n",
      "Requirement already satisfied: tensorflow-io-gcs-filesystem==0.31.0 in c:\\users\\ddas\\anaconda3\\lib\\site-packages (from tensorflow-io) (0.31.0)\n"
     ]
    }
   ],
   "source": [
    "!pip install tensorflow-io"
   ]
  },
  {
   "cell_type": "code",
   "execution_count": 2,
   "metadata": {
    "colab": {
     "base_uri": "https://localhost:8080/"
    },
    "executionInfo": {
     "elapsed": 7514,
     "status": "ok",
     "timestamp": 1681761509844,
     "user": {
      "displayName": "300_Abhishek Sharma",
      "userId": "04499110425885565051"
     },
     "user_tz": -330
    },
    "id": "be-1EyEnXtl6",
    "jupyter": {
     "source_hidden": true
    },
    "outputId": "0c8de944-cd85-410d-b80b-7d7e5a53d39c",
    "tags": []
   },
   "outputs": [
    {
     "name": "stdout",
     "output_type": "stream",
     "text": [
      "Requirement already satisfied: tensorflow in c:\\users\\ddas\\anaconda3\\lib\\site-packages (2.12.0)\n",
      "Requirement already satisfied: tensorflow-intel==2.12.0 in c:\\users\\ddas\\anaconda3\\lib\\site-packages (from tensorflow) (2.12.0)\n",
      "Requirement already satisfied: gast<=0.4.0,>=0.2.1 in c:\\users\\ddas\\anaconda3\\lib\\site-packages (from tensorflow-intel==2.12.0->tensorflow) (0.4.0)\n",
      "Requirement already satisfied: wrapt<1.15,>=1.11.0 in c:\\users\\ddas\\anaconda3\\lib\\site-packages (from tensorflow-intel==2.12.0->tensorflow) (1.14.1)\n",
      "Requirement already satisfied: jax>=0.3.15 in c:\\users\\ddas\\anaconda3\\lib\\site-packages (from tensorflow-intel==2.12.0->tensorflow) (0.4.7)\n",
      "Requirement already satisfied: grpcio<2.0,>=1.24.3 in c:\\users\\ddas\\anaconda3\\lib\\site-packages (from tensorflow-intel==2.12.0->tensorflow) (1.53.0)\n",
      "Requirement already satisfied: packaging in c:\\users\\ddas\\anaconda3\\lib\\site-packages (from tensorflow-intel==2.12.0->tensorflow) (23.0)\n",
      "Requirement already satisfied: termcolor>=1.1.0 in c:\\users\\ddas\\anaconda3\\lib\\site-packages (from tensorflow-intel==2.12.0->tensorflow) (2.2.0)\n",
      "Requirement already satisfied: astunparse>=1.6.0 in c:\\users\\ddas\\anaconda3\\lib\\site-packages (from tensorflow-intel==2.12.0->tensorflow) (1.6.3)\n",
      "Requirement already satisfied: absl-py>=1.0.0 in c:\\users\\ddas\\anaconda3\\lib\\site-packages (from tensorflow-intel==2.12.0->tensorflow) (1.4.0)\n",
      "Requirement already satisfied: google-pasta>=0.1.1 in c:\\users\\ddas\\anaconda3\\lib\\site-packages (from tensorflow-intel==2.12.0->tensorflow) (0.2.0)\n",
      "Requirement already satisfied: tensorflow-io-gcs-filesystem>=0.23.1 in c:\\users\\ddas\\anaconda3\\lib\\site-packages (from tensorflow-intel==2.12.0->tensorflow) (0.31.0)\n",
      "Requirement already satisfied: tensorboard<2.13,>=2.12 in c:\\users\\ddas\\anaconda3\\lib\\site-packages (from tensorflow-intel==2.12.0->tensorflow) (2.12.0)\n",
      "Requirement already satisfied: flatbuffers>=2.0 in c:\\users\\ddas\\anaconda3\\lib\\site-packages (from tensorflow-intel==2.12.0->tensorflow) (23.3.3)\n",
      "Requirement already satisfied: tensorflow-estimator<2.13,>=2.12.0 in c:\\users\\ddas\\anaconda3\\lib\\site-packages (from tensorflow-intel==2.12.0->tensorflow) (2.12.0)\n",
      "Requirement already satisfied: six>=1.12.0 in c:\\users\\ddas\\anaconda3\\lib\\site-packages (from tensorflow-intel==2.12.0->tensorflow) (1.16.0)\n",
      "Requirement already satisfied: keras<2.13,>=2.12.0 in c:\\users\\ddas\\anaconda3\\lib\\site-packages (from tensorflow-intel==2.12.0->tensorflow) (2.12.0)\n",
      "Requirement already satisfied: libclang>=13.0.0 in c:\\users\\ddas\\anaconda3\\lib\\site-packages (from tensorflow-intel==2.12.0->tensorflow) (16.0.0)\n",
      "Requirement already satisfied: numpy<1.24,>=1.22 in c:\\users\\ddas\\anaconda3\\lib\\site-packages (from tensorflow-intel==2.12.0->tensorflow) (1.22.4)\n",
      "Requirement already satisfied: opt-einsum>=2.3.2 in c:\\users\\ddas\\anaconda3\\lib\\site-packages (from tensorflow-intel==2.12.0->tensorflow) (3.3.0)\n",
      "Requirement already satisfied: setuptools in c:\\users\\ddas\\anaconda3\\lib\\site-packages (from tensorflow-intel==2.12.0->tensorflow) (67.6.1)\n",
      "Requirement already satisfied: typing-extensions>=3.6.6 in c:\\users\\ddas\\anaconda3\\lib\\site-packages (from tensorflow-intel==2.12.0->tensorflow) (4.5.0)\n",
      "Requirement already satisfied: protobuf!=4.21.0,!=4.21.1,!=4.21.2,!=4.21.3,!=4.21.4,!=4.21.5,<5.0.0dev,>=3.20.3 in c:\\users\\ddas\\anaconda3\\lib\\site-packages (from tensorflow-intel==2.12.0->tensorflow) (4.22.1)\n",
      "Requirement already satisfied: h5py>=2.9.0 in c:\\users\\ddas\\anaconda3\\lib\\site-packages (from tensorflow-intel==2.12.0->tensorflow) (2.10.0)\n",
      "Requirement already satisfied: wheel<1.0,>=0.23.0 in c:\\users\\ddas\\anaconda3\\lib\\site-packages (from astunparse>=1.6.0->tensorflow-intel==2.12.0->tensorflow) (0.40.0)\n",
      "Requirement already satisfied: ml-dtypes>=0.0.3 in c:\\users\\ddas\\anaconda3\\lib\\site-packages (from jax>=0.3.15->tensorflow-intel==2.12.0->tensorflow) (0.0.4)\n",
      "Requirement already satisfied: scipy>=1.7 in c:\\users\\ddas\\anaconda3\\lib\\site-packages (from jax>=0.3.15->tensorflow-intel==2.12.0->tensorflow) (1.7.3)\n",
      "Requirement already satisfied: tensorboard-plugin-wit>=1.6.0 in c:\\users\\ddas\\anaconda3\\lib\\site-packages (from tensorboard<2.13,>=2.12->tensorflow-intel==2.12.0->tensorflow) (1.8.1)\n",
      "Requirement already satisfied: tensorboard-data-server<0.8.0,>=0.7.0 in c:\\users\\ddas\\anaconda3\\lib\\site-packages (from tensorboard<2.13,>=2.12->tensorflow-intel==2.12.0->tensorflow) (0.7.0)\n",
      "Requirement already satisfied: requests<3,>=2.21.0 in c:\\users\\ddas\\anaconda3\\lib\\site-packages (from tensorboard<2.13,>=2.12->tensorflow-intel==2.12.0->tensorflow) (2.28.2)\n",
      "Requirement already satisfied: werkzeug>=1.0.1 in c:\\users\\ddas\\anaconda3\\lib\\site-packages (from tensorboard<2.13,>=2.12->tensorflow-intel==2.12.0->tensorflow) (2.2.3)\n",
      "Requirement already satisfied: markdown>=2.6.8 in c:\\users\\ddas\\anaconda3\\lib\\site-packages (from tensorboard<2.13,>=2.12->tensorflow-intel==2.12.0->tensorflow) (3.4.3)\n",
      "Requirement already satisfied: google-auth-oauthlib<0.5,>=0.4.1 in c:\\users\\ddas\\anaconda3\\lib\\site-packages (from tensorboard<2.13,>=2.12->tensorflow-intel==2.12.0->tensorflow) (0.4.6)\n",
      "Requirement already satisfied: google-auth<3,>=1.6.3 in c:\\users\\ddas\\anaconda3\\lib\\site-packages (from tensorboard<2.13,>=2.12->tensorflow-intel==2.12.0->tensorflow) (2.17.2)\n",
      "Requirement already satisfied: pyasn1-modules>=0.2.1 in c:\\users\\ddas\\anaconda3\\lib\\site-packages (from google-auth<3,>=1.6.3->tensorboard<2.13,>=2.12->tensorflow-intel==2.12.0->tensorflow) (0.2.7)\n",
      "Requirement already satisfied: cachetools<6.0,>=2.0.0 in c:\\users\\ddas\\anaconda3\\lib\\site-packages (from google-auth<3,>=1.6.3->tensorboard<2.13,>=2.12->tensorflow-intel==2.12.0->tensorflow) (5.3.0)\n",
      "Requirement already satisfied: rsa<5,>=3.1.4 in c:\\users\\ddas\\anaconda3\\lib\\site-packages (from google-auth<3,>=1.6.3->tensorboard<2.13,>=2.12->tensorflow-intel==2.12.0->tensorflow) (4.9)\n",
      "Requirement already satisfied: requests-oauthlib>=0.7.0 in c:\\users\\ddas\\anaconda3\\lib\\site-packages (from google-auth-oauthlib<0.5,>=0.4.1->tensorboard<2.13,>=2.12->tensorflow-intel==2.12.0->tensorflow) (1.3.1)\n",
      "Requirement already satisfied: importlib-metadata>=4.4 in c:\\users\\ddas\\anaconda3\\lib\\site-packages (from markdown>=2.6.8->tensorboard<2.13,>=2.12->tensorflow-intel==2.12.0->tensorflow) (6.3.0)\n",
      "Requirement already satisfied: urllib3<1.27,>=1.21.1 in c:\\users\\ddas\\anaconda3\\lib\\site-packages (from requests<3,>=2.21.0->tensorboard<2.13,>=2.12->tensorflow-intel==2.12.0->tensorflow) (1.26.15)\n",
      "Requirement already satisfied: idna<4,>=2.5 in c:\\users\\ddas\\anaconda3\\lib\\site-packages (from requests<3,>=2.21.0->tensorboard<2.13,>=2.12->tensorflow-intel==2.12.0->tensorflow) (3.4)\n",
      "Requirement already satisfied: certifi>=2017.4.17 in c:\\users\\ddas\\anaconda3\\lib\\site-packages (from requests<3,>=2.21.0->tensorboard<2.13,>=2.12->tensorflow-intel==2.12.0->tensorflow) (2022.12.7)\n",
      "Requirement already satisfied: charset-normalizer<4,>=2 in c:\\users\\ddas\\anaconda3\\lib\\site-packages (from requests<3,>=2.21.0->tensorboard<2.13,>=2.12->tensorflow-intel==2.12.0->tensorflow) (2.1.1)\n",
      "Requirement already satisfied: MarkupSafe>=2.1.1 in c:\\users\\ddas\\anaconda3\\lib\\site-packages (from werkzeug>=1.0.1->tensorboard<2.13,>=2.12->tensorflow-intel==2.12.0->tensorflow) (2.1.2)\n",
      "Requirement already satisfied: zipp>=0.5 in c:\\users\\ddas\\anaconda3\\lib\\site-packages (from importlib-metadata>=4.4->markdown>=2.6.8->tensorboard<2.13,>=2.12->tensorflow-intel==2.12.0->tensorflow) (3.15.0)\n",
      "Requirement already satisfied: pyasn1<0.5.0,>=0.4.6 in c:\\users\\ddas\\anaconda3\\lib\\site-packages (from pyasn1-modules>=0.2.1->google-auth<3,>=1.6.3->tensorboard<2.13,>=2.12->tensorflow-intel==2.12.0->tensorflow) (0.4.8)\n",
      "Requirement already satisfied: oauthlib>=3.0.0 in c:\\users\\ddas\\anaconda3\\lib\\site-packages (from requests-oauthlib>=0.7.0->google-auth-oauthlib<0.5,>=0.4.1->tensorboard<2.13,>=2.12->tensorflow-intel==2.12.0->tensorflow) (3.2.2)\n"
     ]
    }
   ],
   "source": [
    "!pip install tensorflow"
   ]
  },
  {
   "cell_type": "markdown",
   "metadata": {
    "id": "UgnLVG54Xtl6"
   },
   "source": [
    "## 1.2 Load Dependencies"
   ]
  },
  {
   "cell_type": "code",
   "execution_count": 3,
   "metadata": {
    "colab": {
     "base_uri": "https://localhost:8080/"
    },
    "executionInfo": {
     "elapsed": 5685,
     "status": "ok",
     "timestamp": 1681761515525,
     "user": {
      "displayName": "300_Abhishek Sharma",
      "userId": "04499110425885565051"
     },
     "user_tz": -330
    },
    "id": "qcoLbI_nXtl6",
    "outputId": "521e906c-68e1-4e1d-c9e3-a03fa0d03488"
   },
   "outputs": [
    {
     "name": "stdout",
     "output_type": "stream",
     "text": [
      "Requirement already satisfied: matplotlib in c:\\users\\ddas\\anaconda3\\lib\\site-packages (3.5.3)\n",
      "Requirement already satisfied: fonttools>=4.22.0 in c:\\users\\ddas\\anaconda3\\lib\\site-packages (from matplotlib) (4.39.3)\n",
      "Requirement already satisfied: pillow>=6.2.0 in c:\\users\\ddas\\anaconda3\\lib\\site-packages (from matplotlib) (9.4.0)\n",
      "Requirement already satisfied: kiwisolver>=1.0.1 in c:\\users\\ddas\\anaconda3\\lib\\site-packages (from matplotlib) (1.4.4)\n",
      "Requirement already satisfied: packaging>=20.0 in c:\\users\\ddas\\anaconda3\\lib\\site-packages (from matplotlib) (23.0)\n",
      "Requirement already satisfied: python-dateutil>=2.7 in c:\\users\\ddas\\anaconda3\\lib\\site-packages (from matplotlib) (2.8.2)\n",
      "Requirement already satisfied: cycler>=0.10 in c:\\users\\ddas\\anaconda3\\lib\\site-packages (from matplotlib) (0.11.0)\n",
      "Requirement already satisfied: pyparsing>=2.2.1 in c:\\users\\ddas\\anaconda3\\lib\\site-packages (from matplotlib) (3.0.9)\n",
      "Requirement already satisfied: numpy>=1.17 in c:\\users\\ddas\\anaconda3\\lib\\site-packages (from matplotlib) (1.22.4)\n",
      "Requirement already satisfied: six>=1.5 in c:\\users\\ddas\\anaconda3\\lib\\site-packages (from python-dateutil>=2.7->matplotlib) (1.16.0)\n"
     ]
    }
   ],
   "source": [
    "!pip install matplotlib"
   ]
  },
  {
   "cell_type": "code",
   "execution_count": 4,
   "metadata": {
    "executionInfo": {
     "elapsed": 5,
     "status": "ok",
     "timestamp": 1681761515526,
     "user": {
      "displayName": "300_Abhishek Sharma",
      "userId": "04499110425885565051"
     },
     "user_tz": -330
    },
    "id": "-dSNDaAxXtl6"
   },
   "outputs": [],
   "source": [
    "import os\n",
    "from matplotlib import pyplot as plt"
   ]
  },
  {
   "cell_type": "code",
   "execution_count": 6,
   "metadata": {
    "executionInfo": {
     "elapsed": 4,
     "status": "ok",
     "timestamp": 1681761515526,
     "user": {
      "displayName": "300_Abhishek Sharma",
      "userId": "04499110425885565051"
     },
     "user_tz": -330
    },
    "id": "xIxc81nSXtl7",
    "jupyter": {
     "source_hidden": true
    },
    "tags": []
   },
   "outputs": [],
   "source": [
    "import tensorflow as tf \n",
    "import tensorflow_io as tfio"
   ]
  },
  {
   "cell_type": "markdown",
   "metadata": {
    "id": "V-RKAf3uXtl7"
   },
   "source": [
    "# 2. Build Data Loading Function"
   ]
  },
  {
   "cell_type": "markdown",
   "metadata": {
    "id": "179vwnP1Xtl7"
   },
   "source": [
    "## 2.1 Define Paths to Files"
   ]
  },
  {
   "cell_type": "code",
   "execution_count": 7,
   "metadata": {
    "colab": {
     "base_uri": "https://localhost:8080/"
    },
    "executionInfo": {
     "elapsed": 4121,
     "status": "ok",
     "timestamp": 1681761519643,
     "user": {
      "displayName": "300_Abhishek Sharma",
      "userId": "04499110425885565051"
     },
     "user_tz": -330
    },
    "id": "icVar6Nxbfey",
    "outputId": "30030567-b27a-4940-c766-eae0851a1503"
   },
   "outputs": [
    {
     "ename": "ModuleNotFoundError",
     "evalue": "No module named 'google.colab'",
     "output_type": "error",
     "traceback": [
      "\u001b[1;31m---------------------------------------------------------------------------\u001b[0m",
      "\u001b[1;31mModuleNotFoundError\u001b[0m                       Traceback (most recent call last)",
      "Cell \u001b[1;32mIn[7], line 1\u001b[0m\n\u001b[1;32m----> 1\u001b[0m \u001b[38;5;28;01mfrom\u001b[39;00m \u001b[38;5;21;01mgoogle\u001b[39;00m\u001b[38;5;21;01m.\u001b[39;00m\u001b[38;5;21;01mcolab\u001b[39;00m \u001b[38;5;28;01mimport\u001b[39;00m drive\n\u001b[0;32m      2\u001b[0m drive\u001b[38;5;241m.\u001b[39mmount(\u001b[38;5;124m'\u001b[39m\u001b[38;5;124m/content/drive\u001b[39m\u001b[38;5;124m'\u001b[39m)\n",
      "\u001b[1;31mModuleNotFoundError\u001b[0m: No module named 'google.colab'"
     ]
    }
   ],
   "source": [
    "from google.colab import drive\n",
    "drive.mount('/content/drive')"
   ]
  },
  {
   "cell_type": "code",
   "execution_count": null,
   "metadata": {
    "executionInfo": {
     "elapsed": 9,
     "status": "ok",
     "timestamp": 1681761519643,
     "user": {
      "displayName": "300_Abhishek Sharma",
      "userId": "04499110425885565051"
     },
     "user_tz": -330
    },
    "id": "81jKIgL6buE-"
   },
   "outputs": [],
   "source": [
    "os.chdir('/content/drive/MyDrive/data')"
   ]
  },
  {
   "cell_type": "code",
   "execution_count": null,
   "metadata": {
    "executionInfo": {
     "elapsed": 10,
     "status": "ok",
     "timestamp": 1681761519644,
     "user": {
      "displayName": "300_Abhishek Sharma",
      "userId": "04499110425885565051"
     },
     "user_tz": -330
    },
    "id": "nMyx_5oIcMmz"
   },
   "outputs": [],
   "source": [
    "# sub = os.chdir('/content/drive/MyDrive/Rajeev/data/Parsed_Capuchinbird_Clips')"
   ]
  },
  {
   "cell_type": "code",
   "execution_count": null,
   "metadata": {
    "executionInfo": {
     "elapsed": 9,
     "status": "ok",
     "timestamp": 1681761519644,
     "user": {
      "displayName": "300_Abhishek Sharma",
      "userId": "04499110425885565051"
     },
     "user_tz": -330
    },
    "id": "zEV2xFdMcVPe"
   },
   "outputs": [],
   "source": [
    "# sub2 = os.chdir('/content/drive/MyDrive/Rajeev/data/Parsed_Not_Capuchinbird_Clips')"
   ]
  },
  {
   "cell_type": "code",
   "execution_count": null,
   "metadata": {
    "colab": {
     "base_uri": "https://localhost:8080/"
    },
    "executionInfo": {
     "elapsed": 10,
     "status": "ok",
     "timestamp": 1681761519645,
     "user": {
      "displayName": "300_Abhishek Sharma",
      "userId": "04499110425885565051"
     },
     "user_tz": -330
    },
    "id": "X0jN-kmib9Ba",
    "outputId": "9c79f5ff-cd78-4ca6-93a6-75d58026c699"
   },
   "outputs": [],
   "source": [
    "dir_list = os.listdir()\n",
    "print(dir_list)"
   ]
  },
  {
   "cell_type": "code",
   "execution_count": null,
   "metadata": {
    "executionInfo": {
     "elapsed": 7,
     "status": "ok",
     "timestamp": 1681761519645,
     "user": {
      "displayName": "300_Abhishek Sharma",
      "userId": "04499110425885565051"
     },
     "user_tz": -330
    },
    "id": "Xvb0Y5txccAy"
   },
   "outputs": [],
   "source": [
    "# sub = os.listdir()\n",
    "# print(sub)"
   ]
  },
  {
   "cell_type": "code",
   "execution_count": null,
   "metadata": {
    "executionInfo": {
     "elapsed": 8,
     "status": "ok",
     "timestamp": 1681761519646,
     "user": {
      "displayName": "300_Abhishek Sharma",
      "userId": "04499110425885565051"
     },
     "user_tz": -330
    },
    "id": "PEBTDCzScceQ"
   },
   "outputs": [],
   "source": [
    "# sub2 = os.listdir()\n",
    "# print(sub2)"
   ]
  },
  {
   "cell_type": "code",
   "execution_count": null,
   "metadata": {
    "executionInfo": {
     "elapsed": 7,
     "status": "ok",
     "timestamp": 1681761519646,
     "user": {
      "displayName": "300_Abhishek Sharma",
      "userId": "04499110425885565051"
     },
     "user_tz": -330
    },
    "id": "BI4kXligd_gd"
   },
   "outputs": [],
   "source": [
    "CAPUCHIN_FILE  = os.path.join('Parsed_Capuchinbird_Clips', 'XC3776-3.wav')"
   ]
  },
  {
   "cell_type": "code",
   "execution_count": null,
   "metadata": {
    "executionInfo": {
     "elapsed": 7,
     "status": "ok",
     "timestamp": 1681761519646,
     "user": {
      "displayName": "300_Abhishek Sharma",
      "userId": "04499110425885565051"
     },
     "user_tz": -330
    },
    "id": "vV6D0KIKfk64"
   },
   "outputs": [],
   "source": [
    "NOT_CAPUCHIN_FILE = os.path.join('Parsed_Not_Capuchinbird_Clips', 'afternoon-birds-song-in-forest-0.wav')"
   ]
  },
  {
   "cell_type": "code",
   "execution_count": null,
   "metadata": {
    "executionInfo": {
     "elapsed": 7,
     "status": "ok",
     "timestamp": 1681761519646,
     "user": {
      "displayName": "300_Abhishek Sharma",
      "userId": "04499110425885565051"
     },
     "user_tz": -330
    },
    "id": "MwzhZIcudLI_"
   },
   "outputs": [],
   "source": [
    "# CAPUCHIN_FILE = os.path.join('data', 'Parsed_Capuchinbird_Clips', 'sub')\n",
    "# NOT_CAPUCHIN_FILE = os.path.join('data', 'Parsed_Not_Capuchinbird_Clips', 'sub2')"
   ]
  },
  {
   "cell_type": "code",
   "execution_count": null,
   "metadata": {
    "executionInfo": {
     "elapsed": 1436,
     "status": "ok",
     "timestamp": 1681761521075,
     "user": {
      "displayName": "300_Abhishek Sharma",
      "userId": "04499110425885565051"
     },
     "user_tz": -330
    },
    "id": "wXiggoOIXtl8",
    "jupyter": {
     "source_hidden": true
    },
    "tags": []
   },
   "outputs": [],
   "source": [
    "# CAPUCHIN_FILE = os.path.join('dir_list', 'sub', 'XC3776-3.wav')\n",
    "# NOT_CAPUCHIN_FILE = os.path.join('dir_list', 'sub2', 'afternoon-birds-song-in-forest-0.wav')"
   ]
  },
  {
   "cell_type": "markdown",
   "metadata": {
    "id": "5DNG2MmgXtl8"
   },
   "source": [
    "## 2.2 Build Dataloading Function"
   ]
  },
  {
   "cell_type": "code",
   "execution_count": null,
   "metadata": {
    "executionInfo": {
     "elapsed": 10,
     "status": "ok",
     "timestamp": 1681761521076,
     "user": {
      "displayName": "300_Abhishek Sharma",
      "userId": "04499110425885565051"
     },
     "user_tz": -330
    },
    "id": "m2ll_8FXXtl8",
    "jupyter": {
     "source_hidden": true
    },
    "tags": []
   },
   "outputs": [],
   "source": [
    "def load_wav_16k_mono(filename):\n",
    "    # Load encoded wav file\n",
    "    file_contents = tf.io.read_file(filename)\n",
    "    # Decode wav (tensors by channels) \n",
    "    wav, sample_rate = tf.audio.decode_wav(file_contents, desired_channels=1)\n",
    "    # Removes trailing axis\n",
    "    wav = tf.squeeze(wav, axis=-1)\n",
    "    sample_rate = tf.cast(sample_rate, dtype=tf.int64)\n",
    "    # Goes from 44100Hz to 16000hz - amplitude of the audio signal\n",
    "    wav = tfio.audio.resample(wav, rate_in=sample_rate, rate_out=16000)\n",
    "    return wav"
   ]
  },
  {
   "cell_type": "markdown",
   "metadata": {
    "id": "wmkPnctpXtl8"
   },
   "source": [
    "## 2.3 Plot Wave"
   ]
  },
  {
   "cell_type": "code",
   "execution_count": null,
   "metadata": {
    "colab": {
     "base_uri": "https://localhost:8080/"
    },
    "executionInfo": {
     "elapsed": 10,
     "status": "ok",
     "timestamp": 1681761521076,
     "user": {
      "displayName": "300_Abhishek Sharma",
      "userId": "04499110425885565051"
     },
     "user_tz": -330
    },
    "id": "W51Y7wtRexiz",
    "outputId": "c0ae32e8-15d3-4fed-c68e-9ec2af4f6f09"
   },
   "outputs": [],
   "source": [
    "!ls /content/drive/MyDrive/Rajeev/Parsed_Capuchinbird_Clips/"
   ]
  },
  {
   "cell_type": "code",
   "execution_count": null,
   "metadata": {
    "executionInfo": {
     "elapsed": 5,
     "status": "ok",
     "timestamp": 1681761521076,
     "user": {
      "displayName": "300_Abhishek Sharma",
      "userId": "04499110425885565051"
     },
     "user_tz": -330
    },
    "id": "XMTJ3-kjeInv"
   },
   "outputs": [],
   "source": [
    "wave = load_wav_16k_mono(CAPUCHIN_FILE )"
   ]
  },
  {
   "cell_type": "code",
   "execution_count": null,
   "metadata": {
    "executionInfo": {
     "elapsed": 5,
     "status": "ok",
     "timestamp": 1681761521076,
     "user": {
      "displayName": "300_Abhishek Sharma",
      "userId": "04499110425885565051"
     },
     "user_tz": -330
    },
    "id": "s1eHbY7nXtl9",
    "jupyter": {
     "source_hidden": true
    },
    "tags": []
   },
   "outputs": [],
   "source": [
    "\n",
    "nwave = load_wav_16k_mono(NOT_CAPUCHIN_FILE)"
   ]
  },
  {
   "cell_type": "code",
   "execution_count": null,
   "metadata": {
    "colab": {
     "base_uri": "https://localhost:8080/",
     "height": 430
    },
    "executionInfo": {
     "elapsed": 5,
     "status": "ok",
     "timestamp": 1681761521076,
     "user": {
      "displayName": "300_Abhishek Sharma",
      "userId": "04499110425885565051"
     },
     "user_tz": -330
    },
    "id": "qSquA3mUXtl9",
    "jupyter": {
     "source_hidden": true
    },
    "outputId": "41b5561a-461f-46b9-de74-df28ac126328",
    "tags": []
   },
   "outputs": [],
   "source": [
    "plt.plot(wave)\n",
    "plt.plot(nwave)\n",
    "plt.show()"
   ]
  },
  {
   "cell_type": "markdown",
   "metadata": {
    "id": "fo3nLbSAXtl9"
   },
   "source": [
    "# 3. Create Tensorflow Dataset"
   ]
  },
  {
   "cell_type": "markdown",
   "metadata": {
    "id": "tT3eGJ7rXtl9"
   },
   "source": [
    "## 3.1 Define Paths to Positive and Negative Data"
   ]
  },
  {
   "cell_type": "code",
   "execution_count": null,
   "metadata": {
    "executionInfo": {
     "elapsed": 5,
     "status": "ok",
     "timestamp": 1681761521077,
     "user": {
      "displayName": "300_Abhishek Sharma",
      "userId": "04499110425885565051"
     },
     "user_tz": -330
    },
    "id": "VL8YMuT0iVZQ"
   },
   "outputs": [],
   "source": [
    "POS = os.path.join('/content/drive/MyDrive/Rajeev/Parsed_Capuchinbird_Clips', '*.wav')\n",
    "NEG = os.path.join('/content/drive/MyDrive/Rajeev/Parsed_Not_Capuchinbird_Clips', '*.wav')"
   ]
  },
  {
   "cell_type": "code",
   "execution_count": null,
   "metadata": {
    "executionInfo": {
     "elapsed": 577,
     "status": "ok",
     "timestamp": 1681761521649,
     "user": {
      "displayName": "300_Abhishek Sharma",
      "userId": "04499110425885565051"
     },
     "user_tz": -330
    },
    "id": "EMvUC_ech3jU"
   },
   "outputs": [],
   "source": [
    "# POS = os.path.join('/content/drive/MyDrive/Rajeev/data/Parsed_Capuchinbird_Clips', '*.wav')\n",
    "# NEG = os.path.join('/content/drive/MyDrive/Rajeev/data/Parsed_Not_Capuchinbird_Clips', '*.wav')\n"
   ]
  },
  {
   "cell_type": "code",
   "execution_count": null,
   "metadata": {
    "executionInfo": {
     "elapsed": 3,
     "status": "ok",
     "timestamp": 1681761521649,
     "user": {
      "displayName": "300_Abhishek Sharma",
      "userId": "04499110425885565051"
     },
     "user_tz": -330
    },
    "id": "FuLPBwgSXtl9",
    "jupyter": {
     "source_hidden": true
    },
    "tags": []
   },
   "outputs": [],
   "source": [
    "# POS = os.path.join('data', 'Parsed_Capuchinbird_Clips')\n",
    "# NEG = os.path.join('data', 'Parsed_Not_Capuchinbird_Clips')"
   ]
  },
  {
   "cell_type": "markdown",
   "metadata": {
    "id": "JOhqJj_ZXtl9"
   },
   "source": [
    "## 3.2 Create Tensorflow Datasets"
   ]
  },
  {
   "cell_type": "code",
   "execution_count": null,
   "metadata": {
    "executionInfo": {
     "elapsed": 4,
     "status": "ok",
     "timestamp": 1681761521650,
     "user": {
      "displayName": "300_Abhishek Sharma",
      "userId": "04499110425885565051"
     },
     "user_tz": -330
    },
    "id": "61hquq6YicPv"
   },
   "outputs": [],
   "source": [
    "pos = tf.data.Dataset.list_files(POS)\n",
    "neg = tf.data.Dataset.list_files(NEG)"
   ]
  },
  {
   "cell_type": "code",
   "execution_count": null,
   "metadata": {
    "executionInfo": {
     "elapsed": 3,
     "status": "ok",
     "timestamp": 1681761521650,
     "user": {
      "displayName": "300_Abhishek Sharma",
      "userId": "04499110425885565051"
     },
     "user_tz": -330
    },
    "id": "bM3NInsLXtl9",
    "jupyter": {
     "source_hidden": true
    },
    "tags": []
   },
   "outputs": [],
   "source": [
    "# pos = tf.data.Dataset.list_files(POS+'\\*.wav')\n",
    "# neg = tf.data.Dataset.list_files(NEG+'\\*.wav')"
   ]
  },
  {
   "cell_type": "markdown",
   "metadata": {
    "id": "LKS79ZrUXtl-"
   },
   "source": [
    "## 3.3 Add labels and Combine Positive and Negative Samples"
   ]
  },
  {
   "cell_type": "code",
   "execution_count": null,
   "metadata": {
    "executionInfo": {
     "elapsed": 3,
     "status": "ok",
     "timestamp": 1681761521650,
     "user": {
      "displayName": "300_Abhishek Sharma",
      "userId": "04499110425885565051"
     },
     "user_tz": -330
    },
    "id": "GpgKs91gXtl-",
    "jupyter": {
     "source_hidden": true
    },
    "tags": []
   },
   "outputs": [],
   "source": [
    "positives = tf.data.Dataset.zip((pos, tf.data.Dataset.from_tensor_slices(tf.ones(len(pos)))))\n",
    "negatives = tf.data.Dataset.zip((neg, tf.data.Dataset.from_tensor_slices(tf.zeros(len(neg)))))\n",
    "data = positives.concatenate(negatives)"
   ]
  },
  {
   "cell_type": "markdown",
   "metadata": {
    "id": "XSZ55231Xtl-"
   },
   "source": [
    "# 4. Determine Average Length of a Capuchin Call"
   ]
  },
  {
   "cell_type": "markdown",
   "metadata": {
    "id": "GV1mjhYhXtl_"
   },
   "source": [
    "## 4.1 Calculate Wave Cycle Length"
   ]
  },
  {
   "cell_type": "code",
   "execution_count": null,
   "metadata": {
    "executionInfo": {
     "elapsed": 33864,
     "status": "ok",
     "timestamp": 1681761555511,
     "user": {
      "displayName": "300_Abhishek Sharma",
      "userId": "04499110425885565051"
     },
     "user_tz": -330
    },
    "id": "TaP0xONiXtl_",
    "jupyter": {
     "source_hidden": true
    },
    "tags": []
   },
   "outputs": [],
   "source": [
    "lengths = []\n",
    "for file in os.listdir(os.path.join('Parsed_Capuchinbird_Clips')):\n",
    "    tensor_wave = load_wav_16k_mono(os.path.join('Parsed_Capuchinbird_Clips', file))\n",
    "    lengths.append(len(tensor_wave))"
   ]
  },
  {
   "cell_type": "markdown",
   "metadata": {
    "id": "arjLEV_zXtl_"
   },
   "source": [
    "## 4.2 Calculate Mean, Min and Max"
   ]
  },
  {
   "cell_type": "code",
   "execution_count": null,
   "metadata": {
    "colab": {
     "base_uri": "https://localhost:8080/"
    },
    "executionInfo": {
     "elapsed": 24,
     "status": "ok",
     "timestamp": 1681761555512,
     "user": {
      "displayName": "300_Abhishek Sharma",
      "userId": "04499110425885565051"
     },
     "user_tz": -330
    },
    "id": "6TJmcZZQXtl_",
    "jupyter": {
     "source_hidden": true
    },
    "outputId": "34e3caf3-9ee5-4437-c387-8f09709a3e98",
    "tags": []
   },
   "outputs": [],
   "source": [
    "tf.math.reduce_mean(lengths)"
   ]
  },
  {
   "cell_type": "code",
   "execution_count": null,
   "metadata": {
    "colab": {
     "base_uri": "https://localhost:8080/"
    },
    "executionInfo": {
     "elapsed": 22,
     "status": "ok",
     "timestamp": 1681761555512,
     "user": {
      "displayName": "300_Abhishek Sharma",
      "userId": "04499110425885565051"
     },
     "user_tz": -330
    },
    "id": "YHLcHYyNXtl_",
    "jupyter": {
     "source_hidden": true
    },
    "outputId": "edc35ecb-bd6a-4934-ae39-62ba0d797c27",
    "tags": []
   },
   "outputs": [],
   "source": [
    "tf.math.reduce_min(lengths)"
   ]
  },
  {
   "cell_type": "code",
   "execution_count": null,
   "metadata": {
    "colab": {
     "base_uri": "https://localhost:8080/"
    },
    "executionInfo": {
     "elapsed": 15,
     "status": "ok",
     "timestamp": 1681761555512,
     "user": {
      "displayName": "300_Abhishek Sharma",
      "userId": "04499110425885565051"
     },
     "user_tz": -330
    },
    "id": "G5ezJ3BCXtl_",
    "jupyter": {
     "source_hidden": true
    },
    "outputId": "36b9abd2-7f12-4145-e1d4-5e75bf2638ca",
    "tags": []
   },
   "outputs": [],
   "source": [
    "tf.math.reduce_max(lengths)"
   ]
  },
  {
   "cell_type": "markdown",
   "metadata": {
    "id": "bNqu7AoyXtl_"
   },
   "source": [
    "# 5. Build Preprocessing Function to Convert to Spectrogram"
   ]
  },
  {
   "cell_type": "markdown",
   "metadata": {
    "id": "WTV_weYNXtl_"
   },
   "source": [
    "## 5.1 Build Preprocessing Function"
   ]
  },
  {
   "cell_type": "code",
   "execution_count": null,
   "metadata": {
    "executionInfo": {
     "elapsed": 12,
     "status": "ok",
     "timestamp": 1681761555512,
     "user": {
      "displayName": "300_Abhishek Sharma",
      "userId": "04499110425885565051"
     },
     "user_tz": -330
    },
    "id": "ze5DYwlzXtl_",
    "jupyter": {
     "source_hidden": true
    },
    "tags": []
   },
   "outputs": [],
   "source": [
    "def preprocess(file_path, label): \n",
    "    wav = load_wav_16k_mono(file_path)\n",
    "    wav = wav[:48000]\n",
    "    zero_padding = tf.zeros([48000] - tf.shape(wav), dtype=tf.float32)\n",
    "    wav = tf.concat([zero_padding, wav],0)\n",
    "    spectrogram = tf.signal.stft(wav, frame_length=320, frame_step=32)\n",
    "    spectrogram = tf.abs(spectrogram)\n",
    "    spectrogram = tf.expand_dims(spectrogram, axis=2)\n",
    "    return spectrogram, label"
   ]
  },
  {
   "cell_type": "markdown",
   "metadata": {
    "id": "UPfb9cLMXtmA"
   },
   "source": [
    "## 5.2 Test Out the Function and Viz the Spectrogram"
   ]
  },
  {
   "cell_type": "code",
   "execution_count": null,
   "metadata": {
    "executionInfo": {
     "elapsed": 12,
     "status": "ok",
     "timestamp": 1681761555512,
     "user": {
      "displayName": "300_Abhishek Sharma",
      "userId": "04499110425885565051"
     },
     "user_tz": -330
    },
    "id": "3nhj-TouXtmA",
    "jupyter": {
     "source_hidden": true
    },
    "tags": []
   },
   "outputs": [],
   "source": [
    "filepath, label = positives.shuffle(buffer_size=10000).as_numpy_iterator().next()"
   ]
  },
  {
   "cell_type": "code",
   "execution_count": null,
   "metadata": {
    "executionInfo": {
     "elapsed": 673,
     "status": "ok",
     "timestamp": 1681761556173,
     "user": {
      "displayName": "300_Abhishek Sharma",
      "userId": "04499110425885565051"
     },
     "user_tz": -330
    },
    "id": "0BBhToB4XtmA",
    "jupyter": {
     "source_hidden": true
    },
    "tags": []
   },
   "outputs": [],
   "source": [
    "spectrogram, label = preprocess(filepath, label)"
   ]
  },
  {
   "cell_type": "code",
   "execution_count": null,
   "metadata": {
    "colab": {
     "base_uri": "https://localhost:8080/",
     "height": 257
    },
    "executionInfo": {
     "elapsed": 4671,
     "status": "ok",
     "timestamp": 1681761560842,
     "user": {
      "displayName": "300_Abhishek Sharma",
      "userId": "04499110425885565051"
     },
     "user_tz": -330
    },
    "id": "DlMhM4LwXtmA",
    "jupyter": {
     "source_hidden": true
    },
    "outputId": "a3dbb364-7aa5-4210-9ad1-a133bd095d8c",
    "tags": []
   },
   "outputs": [],
   "source": [
    "plt.figure(figsize=(30,20))\n",
    "plt.imshow(tf.transpose(spectrogram)[0])\n",
    "plt.show()"
   ]
  },
  {
   "cell_type": "markdown",
   "metadata": {
    "id": "0fTJQIdxXtmA"
   },
   "source": [
    "# 6. Create Training and Testing Partitions"
   ]
  },
  {
   "cell_type": "markdown",
   "metadata": {
    "id": "4trsZwFQXtmA"
   },
   "source": [
    "## 6.1 Create a Tensorflow Data Pipeline"
   ]
  },
  {
   "cell_type": "code",
   "execution_count": null,
   "metadata": {
    "colab": {
     "base_uri": "https://localhost:8080/"
    },
    "executionInfo": {
     "elapsed": 5830,
     "status": "ok",
     "timestamp": 1681761569867,
     "user": {
      "displayName": "300_Abhishek Sharma",
      "userId": "04499110425885565051"
     },
     "user_tz": -330
    },
    "id": "yfE3jjm6XtmA",
    "jupyter": {
     "source_hidden": true
    },
    "outputId": "27d420e8-3d72-4242-b3ad-b1390f16084c",
    "tags": []
   },
   "outputs": [],
   "source": [
    "data = data.map(preprocess)\n",
    "data = data.cache()\n",
    "data = data.shuffle(buffer_size=1000)\n",
    "data = data.batch(16)#reducing the batch size to 4 first and if it works then to 8\n",
    "data = data.prefetch(8)"
   ]
  },
  {
   "cell_type": "markdown",
   "metadata": {
    "id": "MfQ0qS3PXtmA"
   },
   "source": [
    "## 6.2 Split into Training and Testing Partitions"
   ]
  },
  {
   "cell_type": "code",
   "execution_count": null,
   "metadata": {
    "executionInfo": {
     "elapsed": 933,
     "status": "ok",
     "timestamp": 1681761573603,
     "user": {
      "displayName": "300_Abhishek Sharma",
      "userId": "04499110425885565051"
     },
     "user_tz": -330
    },
    "id": "LZrWSaiQXtmA",
    "jupyter": {
     "source_hidden": true
    },
    "tags": []
   },
   "outputs": [],
   "source": [
    "train = data.take(36)\n",
    "test = data.skip(36).take(15)"
   ]
  },
  {
   "cell_type": "markdown",
   "metadata": {
    "id": "ePpzXRxZXtmA"
   },
   "source": [
    "## 6.3 Test One Batch"
   ]
  },
  {
   "cell_type": "code",
   "execution_count": null,
   "metadata": {
    "executionInfo": {
     "elapsed": 35470,
     "status": "ok",
     "timestamp": 1681761611104,
     "user": {
      "displayName": "300_Abhishek Sharma",
      "userId": "04499110425885565051"
     },
     "user_tz": -330
    },
    "id": "iDYYjTwMXtmA",
    "jupyter": {
     "source_hidden": true
    },
    "tags": []
   },
   "outputs": [],
   "source": [
    "samples, labels = train.as_numpy_iterator().next()"
   ]
  },
  {
   "cell_type": "code",
   "execution_count": null,
   "metadata": {
    "colab": {
     "base_uri": "https://localhost:8080/"
    },
    "executionInfo": {
     "elapsed": 10,
     "status": "ok",
     "timestamp": 1681761611105,
     "user": {
      "displayName": "300_Abhishek Sharma",
      "userId": "04499110425885565051"
     },
     "user_tz": -330
    },
    "id": "LbIMrUYdXtmA",
    "jupyter": {
     "source_hidden": true
    },
    "outputId": "d28f19dd-b607-41b2-f935-775232d198bb",
    "tags": []
   },
   "outputs": [],
   "source": [
    "samples.shape"
   ]
  },
  {
   "cell_type": "markdown",
   "metadata": {
    "id": "3_xhm4DpXtmB"
   },
   "source": [
    "# 7. Build Deep Learning Model"
   ]
  },
  {
   "cell_type": "markdown",
   "metadata": {
    "id": "ljmbWyBuXtmB"
   },
   "source": [
    "## 7.1 Load Tensorflow Dependencies"
   ]
  },
  {
   "cell_type": "code",
   "execution_count": null,
   "metadata": {
    "executionInfo": {
     "elapsed": 583,
     "status": "ok",
     "timestamp": 1681761617758,
     "user": {
      "displayName": "300_Abhishek Sharma",
      "userId": "04499110425885565051"
     },
     "user_tz": -330
    },
    "id": "iqIFezhGXtmB",
    "jupyter": {
     "source_hidden": true
    },
    "tags": []
   },
   "outputs": [],
   "source": [
    "from tensorflow.keras.models import Sequential\n",
    "from tensorflow.keras.layers import Conv2D, Dense, Flatten"
   ]
  },
  {
   "cell_type": "markdown",
   "metadata": {
    "id": "UVGG2zt5XtmB"
   },
   "source": [
    "## 7.2 Build Sequential Model, Compile and View Summary"
   ]
  },
  {
   "cell_type": "code",
   "execution_count": null,
   "metadata": {
    "executionInfo": {
     "elapsed": 4743,
     "status": "ok",
     "timestamp": 1681761655386,
     "user": {
      "displayName": "300_Abhishek Sharma",
      "userId": "04499110425885565051"
     },
     "user_tz": -330
    },
    "id": "zrNGXvuFXtmB",
    "jupyter": {
     "source_hidden": true
    },
    "tags": []
   },
   "outputs": [],
   "source": [
    "model = Sequential()\n",
    "model.add(Conv2D(16, (3,3), activation='relu', input_shape=(1491, 257,1)))\n",
    "model.add(Conv2D(16, (3,3), activation='relu')) #reduced the complexity of the code, need more RAM to run it!\n",
    "model.add(Flatten())\n",
    "model.add(Dense(32, activation='relu')) #reduced the CNN tree density from 128 to 32\n",
    "model.add(Dense(1, activation='sigmoid'))"
   ]
  },
  {
   "cell_type": "code",
   "execution_count": null,
   "metadata": {
    "executionInfo": {
     "elapsed": 403,
     "status": "ok",
     "timestamp": 1681761659972,
     "user": {
      "displayName": "300_Abhishek Sharma",
      "userId": "04499110425885565051"
     },
     "user_tz": -330
    },
    "id": "xKFrPhzZXtmB",
    "jupyter": {
     "source_hidden": true
    },
    "tags": []
   },
   "outputs": [],
   "source": [
    "model.compile('Adam', loss='BinaryCrossentropy', metrics=[tf.keras.metrics.Recall(),tf.keras.metrics.Precision()])"
   ]
  },
  {
   "cell_type": "code",
   "execution_count": null,
   "metadata": {
    "colab": {
     "base_uri": "https://localhost:8080/"
    },
    "executionInfo": {
     "elapsed": 653,
     "status": "ok",
     "timestamp": 1681761663498,
     "user": {
      "displayName": "300_Abhishek Sharma",
      "userId": "04499110425885565051"
     },
     "user_tz": -330
    },
    "id": "p09rdapEXtmB",
    "jupyter": {
     "source_hidden": true
    },
    "outputId": "ab76ee60-5754-4fdc-b4f5-3d290b5bf2aa",
    "tags": []
   },
   "outputs": [],
   "source": [
    "model.summary()"
   ]
  },
  {
   "cell_type": "markdown",
   "metadata": {
    "id": "3csvpayLXtmB"
   },
   "source": [
    "## 7.3 Fit Model, View Loss and KPI Plots"
   ]
  },
  {
   "cell_type": "code",
   "execution_count": null,
   "metadata": {
    "colab": {
     "base_uri": "https://localhost:8080/"
    },
    "executionInfo": {
     "elapsed": 2010169,
     "status": "ok",
     "timestamp": 1681763678074,
     "user": {
      "displayName": "300_Abhishek Sharma",
      "userId": "04499110425885565051"
     },
     "user_tz": -330
    },
    "id": "6YBXXQwxXtmB",
    "jupyter": {
     "source_hidden": true
    },
    "outputId": "97839e91-1149-4bab-bae7-2db2340c84a2",
    "tags": []
   },
   "outputs": [],
   "source": [
    "hist = model.fit(train, epochs=4, validation_data=test)"
   ]
  },
  {
   "cell_type": "code",
   "execution_count": null,
   "metadata": {
    "colab": {
     "base_uri": "https://localhost:8080/",
     "height": 452
    },
    "executionInfo": {
     "elapsed": 13,
     "status": "ok",
     "timestamp": 1681763678075,
     "user": {
      "displayName": "300_Abhishek Sharma",
      "userId": "04499110425885565051"
     },
     "user_tz": -330
    },
    "id": "YNjy26UZXtmB",
    "jupyter": {
     "source_hidden": true
    },
    "outputId": "a9fb7519-e80b-4dc0-9914-a827aca69d5b",
    "tags": []
   },
   "outputs": [],
   "source": [
    "plt.title('Loss')\n",
    "plt.plot(hist.history['loss'], 'r')\n",
    "plt.plot(hist.history['val_loss'], 'b')\n",
    "plt.show()"
   ]
  },
  {
   "cell_type": "code",
   "execution_count": null,
   "metadata": {
    "colab": {
     "base_uri": "https://localhost:8080/",
     "height": 452
    },
    "executionInfo": {
     "elapsed": 6,
     "status": "ok",
     "timestamp": 1681763682895,
     "user": {
      "displayName": "300_Abhishek Sharma",
      "userId": "04499110425885565051"
     },
     "user_tz": -330
    },
    "id": "zgN5K0sQXtmB",
    "jupyter": {
     "source_hidden": true
    },
    "outputId": "e94790ac-285f-4a3f-ec85-77dc2fb0bcdf",
    "tags": []
   },
   "outputs": [],
   "source": [
    "plt.title('Precision')\n",
    "plt.plot(hist.history['precision'], 'r')\n",
    "plt.plot(hist.history['val_precision'], 'b')\n",
    "plt.show()"
   ]
  },
  {
   "cell_type": "code",
   "execution_count": null,
   "metadata": {
    "colab": {
     "base_uri": "https://localhost:8080/",
     "height": 452
    },
    "executionInfo": {
     "elapsed": 569,
     "status": "ok",
     "timestamp": 1681763686383,
     "user": {
      "displayName": "300_Abhishek Sharma",
      "userId": "04499110425885565051"
     },
     "user_tz": -330
    },
    "id": "NtTnnc0gXtmB",
    "jupyter": {
     "source_hidden": true
    },
    "outputId": "3337173a-a80e-4465-85bf-6d58ce432b02",
    "tags": []
   },
   "outputs": [],
   "source": [
    "plt.title('Recall')\n",
    "plt.plot(hist.history['recall'], 'r')\n",
    "plt.plot(hist.history['val_recall'], 'b')\n",
    "plt.show()"
   ]
  },
  {
   "cell_type": "markdown",
   "metadata": {
    "id": "C_v6xF9eXtmB"
   },
   "source": [
    "# 8. Make a Prediction on a Single Clip"
   ]
  },
  {
   "cell_type": "markdown",
   "metadata": {
    "id": "6nzo_lceXtmB"
   },
   "source": [
    "## 8.1 Get One Batch and Make a Prediction"
   ]
  },
  {
   "cell_type": "code",
   "execution_count": null,
   "metadata": {
    "executionInfo": {
     "elapsed": 715,
     "status": "ok",
     "timestamp": 1681763690600,
     "user": {
      "displayName": "300_Abhishek Sharma",
      "userId": "04499110425885565051"
     },
     "user_tz": -330
    },
    "id": "OiYur70lXtmC",
    "jupyter": {
     "source_hidden": true
    },
    "tags": []
   },
   "outputs": [],
   "source": [
    "X_test, y_test = test.as_numpy_iterator().next()"
   ]
  },
  {
   "cell_type": "code",
   "execution_count": null,
   "metadata": {
    "colab": {
     "base_uri": "https://localhost:8080/"
    },
    "executionInfo": {
     "elapsed": 4317,
     "status": "ok",
     "timestamp": 1681763696402,
     "user": {
      "displayName": "300_Abhishek Sharma",
      "userId": "04499110425885565051"
     },
     "user_tz": -330
    },
    "id": "_jea4iH0XtmC",
    "jupyter": {
     "source_hidden": true
    },
    "outputId": "b5aaee07-4752-49e3-d1a1-78ed7187374f",
    "tags": []
   },
   "outputs": [],
   "source": [
    "yhat = model.predict(X_test)"
   ]
  },
  {
   "cell_type": "markdown",
   "metadata": {
    "id": "M4ZjpvWFXtmC"
   },
   "source": [
    "## 8.2 Convert Logits to Classes "
   ]
  },
  {
   "cell_type": "code",
   "execution_count": null,
   "metadata": {
    "executionInfo": {
     "elapsed": 406,
     "status": "ok",
     "timestamp": 1681763700398,
     "user": {
      "displayName": "300_Abhishek Sharma",
      "userId": "04499110425885565051"
     },
     "user_tz": -330
    },
    "id": "gTHdvNCWXtmC",
    "jupyter": {
     "source_hidden": true
    },
    "tags": []
   },
   "outputs": [],
   "source": [
    "yhat = [1 if prediction > 0.5 else 0 for prediction in yhat]"
   ]
  },
  {
   "cell_type": "markdown",
   "metadata": {
    "id": "qCYdpIyQXtmC",
    "tags": []
   },
   "source": [
    "# 9. Build Forest Parsing Functions"
   ]
  },
  {
   "cell_type": "markdown",
   "metadata": {
    "id": "xzL9teZXXtmC"
   },
   "source": [
    "## 9.1 Load up MP3s"
   ]
  },
  {
   "cell_type": "code",
   "execution_count": null,
   "metadata": {
    "executionInfo": {
     "elapsed": 1,
     "status": "ok",
     "timestamp": 1681763704299,
     "user": {
      "displayName": "300_Abhishek Sharma",
      "userId": "04499110425885565051"
     },
     "user_tz": -330
    },
    "id": "XAMsVt1SXtmC",
    "jupyter": {
     "source_hidden": true
    }
   },
   "outputs": [],
   "source": [
    "def load_mp3_16k_mono(filename):\n",
    "    \"\"\" Load a WAV file, convert it to a float tensor, resample to 16 kHz single-channel audio. \"\"\"\n",
    "    res = tfio.audio.AudioIOTensor(filename)\n",
    "    # Convert to tensor and combine channels \n",
    "    tensor = res.to_tensor()\n",
    "    tensor = tf.math.reduce_sum(tensor, axis=1) / 2 \n",
    "    # Extract sample rate and cast\n",
    "    sample_rate = res.rate\n",
    "    sample_rate = tf.cast(sample_rate, dtype=tf.int64)\n",
    "    # Resample to 16 kHz\n",
    "    wav = tfio.audio.resample(tensor, rate_in=sample_rate, rate_out=16000)\n",
    "    return wav\n",
    "\n",
    "# def load_mp3_16k_mono(filename):\n",
    "#     \"\"\" Load an MP3 file, convert it to a float tensor, resample to 16 kHz single-channel audio. \"\"\"\n",
    "#     file_contents = tf.io.read_file(filename)\n",
    "#     # Decode MP3 (tensors by channels) \n",
    "#     mp3, _ = tf.audio.decode_mp3(file_contents)\n",
    "#     # Convert to float and combine channels \n",
    "#     mp3 = tf.cast(mp3, dtype=tf.float32) / 32768.0\n",
    "#     mp3 = (mp3[:, 0] + mp3[:, 1]) / 2\n",
    "#     # Resample to 16 kHz\n",
    "#     wav = tfio.audio.resample(mp3, rate_in=44100, rate_out=16000)\n",
    "#     return wav\n",
    "\n",
    "\n",
    "\n",
    "\n",
    "\n",
    "\n"
   ]
  },
  {
   "cell_type": "code",
   "execution_count": null,
   "metadata": {
    "executionInfo": {
     "elapsed": 608,
     "status": "ok",
     "timestamp": 1681763707247,
     "user": {
      "displayName": "300_Abhishek Sharma",
      "userId": "04499110425885565051"
     },
     "user_tz": -330
    },
    "id": "2slg5gULXtmC",
    "jupyter": {
     "source_hidden": true
    }
   },
   "outputs": [],
   "source": [
    "mp3 = os.path.join('Forest Recordings', 'recording_00.mp3')"
   ]
  },
  {
   "cell_type": "code",
   "execution_count": null,
   "metadata": {
    "executionInfo": {
     "elapsed": 699,
     "status": "ok",
     "timestamp": 1681763708663,
     "user": {
      "displayName": "300_Abhishek Sharma",
      "userId": "04499110425885565051"
     },
     "user_tz": -330
    },
    "id": "knTHXWLBXtmC",
    "jupyter": {
     "source_hidden": true
    },
    "tags": []
   },
   "outputs": [],
   "source": [
    "wav = load_mp3_16k_mono(mp3)"
   ]
  },
  {
   "cell_type": "code",
   "execution_count": null,
   "metadata": {
    "executionInfo": {
     "elapsed": 440,
     "status": "ok",
     "timestamp": 1681763714030,
     "user": {
      "displayName": "300_Abhishek Sharma",
      "userId": "04499110425885565051"
     },
     "user_tz": -330
    },
    "id": "himhmx-QXtmC",
    "jupyter": {
     "source_hidden": true
    }
   },
   "outputs": [],
   "source": [
    "audio_slices = tf.keras.utils.timeseries_dataset_from_array(wav, wav, sequence_length=48000, sequence_stride=48000, batch_size=1)"
   ]
  },
  {
   "cell_type": "code",
   "execution_count": null,
   "metadata": {
    "executionInfo": {
     "elapsed": 2,
     "status": "ok",
     "timestamp": 1681763716260,
     "user": {
      "displayName": "300_Abhishek Sharma",
      "userId": "04499110425885565051"
     },
     "user_tz": -330
    },
    "id": "P_DpisQWXtmC",
    "jupyter": {
     "source_hidden": true
    }
   },
   "outputs": [],
   "source": [
    "samples, index = audio_slices.as_numpy_iterator().next()"
   ]
  },
  {
   "cell_type": "markdown",
   "metadata": {
    "id": "C5Hgh0odXtmC"
   },
   "source": [
    "## 9.2 Build Function to Convert Clips into Windowed Spectrograms"
   ]
  },
  {
   "cell_type": "code",
   "execution_count": null,
   "metadata": {
    "executionInfo": {
     "elapsed": 404,
     "status": "ok",
     "timestamp": 1681763720642,
     "user": {
      "displayName": "300_Abhishek Sharma",
      "userId": "04499110425885565051"
     },
     "user_tz": -330
    },
    "id": "uH-WzsF5XtmC",
    "jupyter": {
     "source_hidden": true
    }
   },
   "outputs": [],
   "source": [
    "def preprocess_mp3(sample, index):\n",
    "    sample = sample[0]\n",
    "    zero_padding = tf.zeros([48000] - tf.shape(sample), dtype=tf.float32)\n",
    "    wav = tf.concat([zero_padding, sample],0)\n",
    "    spectrogram = tf.signal.stft(wav, frame_length=320, frame_step=32)\n",
    "    spectrogram = tf.abs(spectrogram)\n",
    "    spectrogram = tf.expand_dims(spectrogram, axis=2)\n",
    "    return spectrogram"
   ]
  },
  {
   "cell_type": "markdown",
   "metadata": {
    "id": "EpXGNl08XtmC"
   },
   "source": [
    "## 9.3 Convert Longer Clips into Windows and Make Predictions"
   ]
  },
  {
   "cell_type": "code",
   "execution_count": null,
   "metadata": {
    "executionInfo": {
     "elapsed": 1147,
     "status": "ok",
     "timestamp": 1681763724248,
     "user": {
      "displayName": "300_Abhishek Sharma",
      "userId": "04499110425885565051"
     },
     "user_tz": -330
    },
    "id": "HY-QkB0zXtmD",
    "jupyter": {
     "source_hidden": true
    }
   },
   "outputs": [],
   "source": [
    "audio_slices = tf.keras.utils.timeseries_dataset_from_array(wav, wav, sequence_length=16000, sequence_stride=16000, batch_size=1)\n",
    "audio_slices = audio_slices.map(preprocess_mp3)\n",
    "audio_slices = audio_slices.batch(64)"
   ]
  },
  {
   "cell_type": "code",
   "execution_count": null,
   "metadata": {
    "colab": {
     "base_uri": "https://localhost:8080/"
    },
    "executionInfo": {
     "elapsed": 29060,
     "status": "ok",
     "timestamp": 1681763756084,
     "user": {
      "displayName": "300_Abhishek Sharma",
      "userId": "04499110425885565051"
     },
     "user_tz": -330
    },
    "id": "bAFc3U60XtmD",
    "jupyter": {
     "source_hidden": true
    },
    "outputId": "6570aa1a-67ee-4843-ccf3-23237479a06b"
   },
   "outputs": [],
   "source": [
    "yhat = model.predict(audio_slices)\n",
    "yhat = [1 if prediction > 0.5 else 0 for prediction in yhat]"
   ]
  },
  {
   "cell_type": "markdown",
   "metadata": {
    "id": "Kh-ex62bXtmD"
   },
   "source": [
    "## 9.4 Group Consecutive Detections"
   ]
  },
  {
   "cell_type": "code",
   "execution_count": null,
   "metadata": {
    "executionInfo": {
     "elapsed": 418,
     "status": "ok",
     "timestamp": 1681763760209,
     "user": {
      "displayName": "300_Abhishek Sharma",
      "userId": "04499110425885565051"
     },
     "user_tz": -330
    },
    "id": "RAK83gazXtmD",
    "jupyter": {
     "source_hidden": true
    }
   },
   "outputs": [],
   "source": [
    "from itertools import groupby"
   ]
  },
  {
   "cell_type": "code",
   "execution_count": null,
   "metadata": {
    "executionInfo": {
     "elapsed": 2,
     "status": "ok",
     "timestamp": 1681763762063,
     "user": {
      "displayName": "300_Abhishek Sharma",
      "userId": "04499110425885565051"
     },
     "user_tz": -330
    },
    "id": "sNJRz_UUXtmD",
    "jupyter": {
     "source_hidden": true
    }
   },
   "outputs": [],
   "source": [
    "yhat = [key for key, group in groupby(yhat)]\n",
    "calls = tf.math.reduce_sum(yhat).numpy()"
   ]
  },
  {
   "cell_type": "code",
   "execution_count": null,
   "metadata": {
    "colab": {
     "base_uri": "https://localhost:8080/"
    },
    "executionInfo": {
     "elapsed": 2,
     "status": "ok",
     "timestamp": 1681763762063,
     "user": {
      "displayName": "300_Abhishek Sharma",
      "userId": "04499110425885565051"
     },
     "user_tz": -330
    },
    "id": "tB-zt0tvXtmD",
    "jupyter": {
     "source_hidden": true
    },
    "outputId": "22d5592c-a77b-4a98-a4f7-dbc601666d9b"
   },
   "outputs": [],
   "source": [
    "calls"
   ]
  },
  {
   "cell_type": "markdown",
   "metadata": {
    "id": "zYdwcQQsXtmD"
   },
   "source": [
    "# 10. Make Predictions"
   ]
  },
  {
   "cell_type": "markdown",
   "metadata": {
    "id": "iKJBllhYXtmD"
   },
   "source": [
    "## 10.1 Loop over all recordings and make predictions"
   ]
  },
  {
   "cell_type": "code",
   "execution_count": null,
   "metadata": {
    "colab": {
     "base_uri": "https://localhost:8080/"
    },
    "executionInfo": {
     "elapsed": 1032861,
     "status": "ok",
     "timestamp": 1681764800610,
     "user": {
      "displayName": "300_Abhishek Sharma",
      "userId": "04499110425885565051"
     },
     "user_tz": -330
    },
    "id": "2Kiov-XqXtmD",
    "jupyter": {
     "source_hidden": true
    },
    "outputId": "5a9f7c5a-a864-40df-ba14-8cd5876bdef2"
   },
   "outputs": [],
   "source": [
    "results = {}\n",
    "for file in os.listdir(os.path.join('Forest Recordings')):\n",
    "    FILEPATH = os.path.join('Forest Recordings', file)\n",
    "    \n",
    "    wav = load_mp3_16k_mono(FILEPATH)\n",
    "    audio_slices = tf.keras.utils.timeseries_dataset_from_array(wav, wav, sequence_length=48000, sequence_stride=48000, batch_size=1)\n",
    "    audio_slices = audio_slices.map(preprocess_mp3)\n",
    "    audio_slices = audio_slices.batch(64)\n",
    "    \n",
    "    yhat = model.predict(audio_slices)\n",
    "    \n",
    "    results[file] = yhat"
   ]
  },
  {
   "cell_type": "code",
   "execution_count": null,
   "metadata": {
    "colab": {
     "base_uri": "https://localhost:8080/"
    },
    "executionInfo": {
     "elapsed": 17,
     "status": "ok",
     "timestamp": 1681764800610,
     "user": {
      "displayName": "300_Abhishek Sharma",
      "userId": "04499110425885565051"
     },
     "user_tz": -330
    },
    "id": "sPTg5VfxXtmE",
    "jupyter": {
     "source_hidden": true
    },
    "outputId": "46ecae72-77d8-4162-c520-1f3701a6a796",
    "scrolled": true,
    "tags": []
   },
   "outputs": [],
   "source": [
    "results"
   ]
  },
  {
   "cell_type": "markdown",
   "metadata": {
    "id": "xHH_ubUAXtmE"
   },
   "source": [
    "## 10.2 Convert Predictions into Classes"
   ]
  },
  {
   "cell_type": "code",
   "execution_count": null,
   "metadata": {
    "colab": {
     "base_uri": "https://localhost:8080/"
    },
    "executionInfo": {
     "elapsed": 423,
     "status": "ok",
     "timestamp": 1681764808960,
     "user": {
      "displayName": "300_Abhishek Sharma",
      "userId": "04499110425885565051"
     },
     "user_tz": -330
    },
    "id": "UjTy_mDJXtmE",
    "jupyter": {
     "source_hidden": true
    },
    "outputId": "38a43350-eeec-4e29-ba8c-a2068e07980a",
    "scrolled": true,
    "tags": []
   },
   "outputs": [],
   "source": [
    "class_preds = {}\n",
    "for file, logits in results.items():\n",
    "    class_preds[file] = [1 if prediction > 0.99 else 0 for prediction in logits]\n",
    "class_preds"
   ]
  },
  {
   "cell_type": "markdown",
   "metadata": {
    "id": "TcBrt8oHXtmE"
   },
   "source": [
    "## 10.3 Group Consecutive Detections"
   ]
  },
  {
   "cell_type": "code",
   "execution_count": null,
   "metadata": {
    "colab": {
     "base_uri": "https://localhost:8080/"
    },
    "executionInfo": {
     "elapsed": 410,
     "status": "ok",
     "timestamp": 1681764815660,
     "user": {
      "displayName": "300_Abhishek Sharma",
      "userId": "04499110425885565051"
     },
     "user_tz": -330
    },
    "id": "b_dm8jd-XtmE",
    "jupyter": {
     "source_hidden": true
    },
    "outputId": "34ead939-3d7e-415f-b551-45881bef7e69",
    "scrolled": true,
    "tags": []
   },
   "outputs": [],
   "source": [
    "postprocessed = {}\n",
    "for file, scores in class_preds.items():\n",
    "    postprocessed[file] = tf.math.reduce_sum([key for key, group in groupby(scores)]).numpy()\n",
    "postprocessed"
   ]
  },
  {
   "cell_type": "markdown",
   "metadata": {
    "id": "ngxGvr9eXtmE"
   },
   "source": [
    "# 11. Export Results"
   ]
  },
  {
   "cell_type": "code",
   "execution_count": null,
   "metadata": {
    "executionInfo": {
     "elapsed": 409,
     "status": "ok",
     "timestamp": 1681764823797,
     "user": {
      "displayName": "300_Abhishek Sharma",
      "userId": "04499110425885565051"
     },
     "user_tz": -330
    },
    "id": "0MauEpiQXtmE",
    "jupyter": {
     "source_hidden": true
    }
   },
   "outputs": [],
   "source": [
    "import csv"
   ]
  },
  {
   "cell_type": "code",
   "execution_count": null,
   "metadata": {
    "executionInfo": {
     "elapsed": 666,
     "status": "ok",
     "timestamp": 1681764839585,
     "user": {
      "displayName": "300_Abhishek Sharma",
      "userId": "04499110425885565051"
     },
     "user_tz": -330
    },
    "id": "lCsVvFUJXtmE",
    "jupyter": {
     "source_hidden": true
    },
    "tags": []
   },
   "outputs": [],
   "source": [
    "with open('results_with_bird_sound.csv', 'w', newline='') as f:\n",
    "    writer = csv.writer(f, delimiter=',')\n",
    "    writer.writerow(['recording', 'capuchin_calls'])\n",
    "    for key, value in postprocessed.items():\n",
    "        writer.writerow([key, value])"
   ]
  },
  {
   "cell_type": "code",
   "execution_count": null,
   "metadata": {
    "id": "acwkuLV6xQuB"
   },
   "outputs": [],
   "source": []
  }
 ],
 "metadata": {
  "colab": {
   "provenance": [
    {
     "file_id": "1vvP2sXgXX5yqegK31etPKudwnohHHj-P",
     "timestamp": 1681757486793
    }
   ]
  },
  "interpreter": {
   "hash": "aee8b7b246df8f9039afb4144a1f6fd8d2ca17a180786b69acc140d282b71a49"
  },
  "kernelspec": {
   "display_name": "Python 3 (ipykernel)",
   "language": "python",
   "name": "python3"
  },
  "language_info": {
   "codemirror_mode": {
    "name": "ipython",
    "version": 3
   },
   "file_extension": ".py",
   "mimetype": "text/x-python",
   "name": "python",
   "nbconvert_exporter": "python",
   "pygments_lexer": "ipython3",
   "version": "3.9.16"
  }
 },
 "nbformat": 4,
 "nbformat_minor": 1
}
